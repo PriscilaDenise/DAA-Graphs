{
 "cells": [
  {
   "cell_type": "markdown",
   "metadata": {},
   "source": [
    "### Brute force \n",
    "\n",
    "#### Counting the number of inversions "
   ]
  },
  {
   "cell_type": "code",
   "execution_count": 14,
   "metadata": {},
   "outputs": [
    {
     "name": "stdout",
     "output_type": "stream",
     "text": [
      "The number of inversions is:  13\n"
     ]
    }
   ],
   "source": [
    "\n",
    "lst = [2,23,5,6,4,7,12,3]\n",
    "inv = 0\n",
    "for i in range (len(lst)):\n",
    "    for j in range (i+1, len(lst)):\n",
    "        if lst[i] > lst[j]:\n",
    "            inv = inv + 1\n",
    "print (\"The number of inversions is: \", inv)\n",
    "\n",
    "# optimize from o(n^2) to better algorithm"
   ]
  },
  {
   "cell_type": "markdown",
   "metadata": {},
   "source": [
    "#### Using merge sort (1)"
   ]
  },
  {
   "cell_type": "code",
   "execution_count": 15,
   "metadata": {},
   "outputs": [
    {
     "data": {
      "text/plain": [
       "13"
      ]
     },
     "execution_count": 15,
     "metadata": {},
     "output_type": "execute_result"
    }
   ],
   "source": [
    "def merge_and_count(arr, temp_arr, left, right):\n",
    "    if left == right:\n",
    "        return 0\n",
    "    \n",
    "    mid = (left + right) // 2\n",
    "    inv_count = 0\n",
    "    \n",
    "    inv_count += merge_and_count(arr, temp_arr, left, mid)  # Count inversions in the left half\n",
    "    inv_count += merge_and_count(arr, temp_arr, mid + 1, right)  # Count inversions in the right half\n",
    "    inv_count += merge(arr, temp_arr, left, mid, right)  # Count cross-inversions while merging\n",
    "    \n",
    "    return inv_count\n",
    "\n",
    "def merge(arr, temp_arr, left, mid, right):\n",
    "    i = left  # Starting index for the left subarray\n",
    "    j = mid + 1  # Starting index for the right subarray\n",
    "    k = left  # Starting index to be sorted\n",
    "    inv_count = 0\n",
    "    \n",
    "    # Merge the two halves while counting inversions\n",
    "    while i <= mid and j <= right:\n",
    "        if arr[i] <= arr[j]:\n",
    "            temp_arr[k] = arr[i]\n",
    "            i += 1\n",
    "        else:\n",
    "            temp_arr[k] = arr[j]\n",
    "            inv_count += (mid-i + 1)  # Count inversions\n",
    "            j += 1\n",
    "        k += 1\n",
    "\n",
    "    # Copy the remaining elements of left subarray, if any\n",
    "    while i <= mid:\n",
    "        temp_arr[k] = arr[i]\n",
    "        i += 1\n",
    "        k += 1\n",
    "    \n",
    "    # Copy the remaining elements of right subarray, if any\n",
    "    while j <= right:\n",
    "        temp_arr[k] = arr[j]\n",
    "        j += 1\n",
    "        k += 1\n",
    "    \n",
    "    # Copy the sorted subarray into the original array\n",
    "    for i in range(left, right + 1):\n",
    "        arr[i] = temp_arr[i]\n",
    "    \n",
    "    return inv_count\n",
    "\n",
    "def count_inversions(arr):\n",
    "    n = len(arr)\n",
    "    temp_arr = [0]*n\n",
    "    return merge_and_count(arr, temp_arr, 0, n - 1)\n",
    "\n",
    "# Example usage:\n",
    "lst = [2, 23, 5, 6, 4, 7, 12, 3]\n",
    "inversions = count_inversions(lst)\n",
    "inversions\n"
   ]
  },
  {
   "cell_type": "markdown",
   "metadata": {},
   "source": [
    "#### Using merge sort (2)"
   ]
  },
  {
   "cell_type": "code",
   "execution_count": 16,
   "metadata": {},
   "outputs": [
    {
     "name": "stdout",
     "output_type": "stream",
     "text": [
      "Number of inversions: 13\n"
     ]
    }
   ],
   "source": [
    "def merge_and_count(arr, temp_arr, left, right):\n",
    "    if left == right:\n",
    "        return 0\n",
    "    mid = (left + right) // 2\n",
    "    inv_count = 0\n",
    "    \n",
    "    # Count inversions in the left half, right half and while merging\n",
    "    inv_count += merge_and_count(arr, temp_arr, left, mid)\n",
    "    inv_count += merge_and_count(arr, temp_arr, mid + 1, right)\n",
    "    inv_count += merge_and_merge_count(arr, temp_arr, left, mid, right)\n",
    "    \n",
    "    return inv_count\n",
    "\n",
    "def merge_and_merge_count(arr, temp_arr, left, mid, right):\n",
    "    i = left    # Starting index for left subarray\n",
    "    j = mid + 1 # Starting index for right subarray\n",
    "    k = left    # Starting index to be sorted\n",
    "    inv_count = 0\n",
    "    \n",
    "    # Merge the two halves and count inversions\n",
    "    while i <= mid and j <= right:\n",
    "        if arr[i] <= arr[j]:\n",
    "            temp_arr[k] = arr[i]\n",
    "            i += 1\n",
    "        else:\n",
    "            temp_arr[k] = arr[j]\n",
    "            inv_count += (mid - i + 1)  # Elements remaining in the left half are inversions\n",
    "            j += 1\n",
    "        k += 1\n",
    "\n",
    "    # Copy remaining elements of left subarray\n",
    "    while i <= mid:\n",
    "        temp_arr[k] = arr[i]\n",
    "        i += 1\n",
    "        k += 1\n",
    "\n",
    "    # Copy remaining elements of right subarray\n",
    "    while j <= right:\n",
    "        temp_arr[k] = arr[j]\n",
    "        j += 1\n",
    "        k += 1\n",
    "\n",
    "    # Copy the sorted subarray back into the original array\n",
    "    for i in range(left, right + 1):\n",
    "        arr[i] = temp_arr[i]\n",
    "    \n",
    "    return inv_count\n",
    "\n",
    "def merge_sort_and_count(arr):\n",
    "    temp_arr = [0] * len(arr)\n",
    "    return merge_and_count(arr, temp_arr, 0, len(arr) - 1)\n",
    "\n",
    "# Example usage\n",
    "lst = [2, 23, 5, 6, 4, 7, 12, 3]\n",
    "inversions = merge_sort_and_count(lst)\n",
    "print(\"Number of inversions:\", inversions)\n"
   ]
  },
  {
   "cell_type": "markdown",
   "metadata": {},
   "source": [
    "#### Using merge sort(Teacher's version)"
   ]
  },
  {
   "cell_type": "code",
   "execution_count": 23,
   "metadata": {},
   "outputs": [],
   "source": [
    "lst = [2,23,5,6,4,7,12,3]\n",
    "def count_inversions (lst):\n",
    "    if len(lst) <= 1:\n",
    "        return lst, 0\n",
    "    mid = len(lst)//2\n",
    "    left_half, left_inversions = count_inversions (lst[:mid])\n",
    "    right_half, right_inversions = count_inversions (lst[mid:])\n",
    "    merged_list, inversions = merge (left_half, right_half)\n",
    "    return merged_list, left_inversions + right_inversions + inversions\n",
    "print (\"The number of inversions are; {count_inversions}\")\n"
   ]
  },
  {
   "cell_type": "code",
   "execution_count": 27,
   "metadata": {},
   "outputs": [
    {
     "ename": "TypeError",
     "evalue": "merge() missing 3 required positional arguments: 'left', 'mid', and 'right'",
     "output_type": "error",
     "traceback": [
      "\u001b[0;31m---------------------------------------------------------------------------\u001b[0m",
      "\u001b[0;31mTypeError\u001b[0m                                 Traceback (most recent call last)",
      "Cell \u001b[0;32mIn[27], line 1\u001b[0m\n\u001b[0;32m----> 1\u001b[0m \u001b[43mcount_inversions\u001b[49m\u001b[43m(\u001b[49m\u001b[43mlst\u001b[49m\u001b[43m)\u001b[49m\n",
      "Cell \u001b[0;32mIn[23], line 6\u001b[0m, in \u001b[0;36mcount_inversions\u001b[0;34m(lst)\u001b[0m\n\u001b[1;32m      4\u001b[0m     \u001b[38;5;28;01mreturn\u001b[39;00m lst, \u001b[38;5;241m0\u001b[39m\n\u001b[1;32m      5\u001b[0m mid \u001b[38;5;241m=\u001b[39m \u001b[38;5;28mlen\u001b[39m(lst)\u001b[38;5;241m/\u001b[39m\u001b[38;5;241m/\u001b[39m\u001b[38;5;241m2\u001b[39m\n\u001b[0;32m----> 6\u001b[0m left_half, left_inversions \u001b[38;5;241m=\u001b[39m \u001b[43mcount_inversions\u001b[49m\u001b[43m \u001b[49m\u001b[43m(\u001b[49m\u001b[43mlst\u001b[49m\u001b[43m[\u001b[49m\u001b[43m:\u001b[49m\u001b[43mmid\u001b[49m\u001b[43m]\u001b[49m\u001b[43m)\u001b[49m\n\u001b[1;32m      7\u001b[0m right_half, right_inversions \u001b[38;5;241m=\u001b[39m count_inversions (lst[mid:])\n\u001b[1;32m      8\u001b[0m merged_list, inversions \u001b[38;5;241m=\u001b[39m merge (left_half, right_half)\n",
      "Cell \u001b[0;32mIn[23], line 6\u001b[0m, in \u001b[0;36mcount_inversions\u001b[0;34m(lst)\u001b[0m\n\u001b[1;32m      4\u001b[0m     \u001b[38;5;28;01mreturn\u001b[39;00m lst, \u001b[38;5;241m0\u001b[39m\n\u001b[1;32m      5\u001b[0m mid \u001b[38;5;241m=\u001b[39m \u001b[38;5;28mlen\u001b[39m(lst)\u001b[38;5;241m/\u001b[39m\u001b[38;5;241m/\u001b[39m\u001b[38;5;241m2\u001b[39m\n\u001b[0;32m----> 6\u001b[0m left_half, left_inversions \u001b[38;5;241m=\u001b[39m \u001b[43mcount_inversions\u001b[49m\u001b[43m \u001b[49m\u001b[43m(\u001b[49m\u001b[43mlst\u001b[49m\u001b[43m[\u001b[49m\u001b[43m:\u001b[49m\u001b[43mmid\u001b[49m\u001b[43m]\u001b[49m\u001b[43m)\u001b[49m\n\u001b[1;32m      7\u001b[0m right_half, right_inversions \u001b[38;5;241m=\u001b[39m count_inversions (lst[mid:])\n\u001b[1;32m      8\u001b[0m merged_list, inversions \u001b[38;5;241m=\u001b[39m merge (left_half, right_half)\n",
      "Cell \u001b[0;32mIn[23], line 8\u001b[0m, in \u001b[0;36mcount_inversions\u001b[0;34m(lst)\u001b[0m\n\u001b[1;32m      6\u001b[0m left_half, left_inversions \u001b[38;5;241m=\u001b[39m count_inversions (lst[:mid])\n\u001b[1;32m      7\u001b[0m right_half, right_inversions \u001b[38;5;241m=\u001b[39m count_inversions (lst[mid:])\n\u001b[0;32m----> 8\u001b[0m merged_list, inversions \u001b[38;5;241m=\u001b[39m \u001b[43mmerge\u001b[49m\u001b[43m \u001b[49m\u001b[43m(\u001b[49m\u001b[43mleft_half\u001b[49m\u001b[43m,\u001b[49m\u001b[43m \u001b[49m\u001b[43mright_half\u001b[49m\u001b[43m)\u001b[49m\n\u001b[1;32m      9\u001b[0m \u001b[38;5;28;01mreturn\u001b[39;00m merged_list, left_inversions \u001b[38;5;241m+\u001b[39m right_inversions \u001b[38;5;241m+\u001b[39m inversions\n",
      "\u001b[0;31mTypeError\u001b[0m: merge() missing 3 required positional arguments: 'left', 'mid', and 'right'"
     ]
    }
   ],
   "source": [
    "\n",
    "count_inversions(lst)"
   ]
  }
 ],
 "metadata": {
  "kernelspec": {
   "display_name": "Python 3",
   "language": "python",
   "name": "python3"
  },
  "language_info": {
   "codemirror_mode": {
    "name": "ipython",
    "version": 3
   },
   "file_extension": ".py",
   "mimetype": "text/x-python",
   "name": "python",
   "nbconvert_exporter": "python",
   "pygments_lexer": "ipython3",
   "version": "3.12.5"
  }
 },
 "nbformat": 4,
 "nbformat_minor": 2
}
