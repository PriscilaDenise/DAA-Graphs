{
 "cells": [
  {
   "cell_type": "markdown",
   "metadata": {},
   "source": [
    "### PSE"
   ]
  },
  {
   "cell_type": "code",
   "execution_count": 1,
   "metadata": {},
   "outputs": [
    {
     "data": {
      "text/plain": [
       "43466557686937456435688527675040625802564660517371780402481729089536555417949051890403879840079255169295922593080322634775209689623239873322471161642996440906533187938298969649928516003704476137795166849228875"
      ]
     },
     "execution_count": 1,
     "metadata": {},
     "output_type": "execute_result"
    }
   ],
   "source": [
    "def fib(n, memo):\n",
    "    # if n < 1:\n",
    "    #     return 0\n",
    "    if memo[n] is not None:\n",
    "        return  memo[n]\n",
    "    if n == 1 or n == 2:\n",
    "        result = 1\n",
    "    else: \n",
    "        result = fib(n-1, memo) + fib(n-2, memo)\n",
    "    memo[n] = result \n",
    "    return result\n",
    "def fib_memo(n):\n",
    "    memo = [None]*(n+1)\n",
    "    return fib(n, memo)\n",
    "\n",
    "fib_memo(5)\n",
    "fib_memo(1000)\n",
    "\n",
    "\n"
   ]
  },
  {
   "cell_type": "markdown",
   "metadata": {},
   "source": [
    "function fib(n):\n",
    "   fibtable [0] = 0\n",
    "   fibtable [1] = 1\n",
    "   for i = 2,3,...n\n",
    "   "
   ]
  },
  {
   "cell_type": "markdown",
   "metadata": {},
   "source": [
    "### Naive fibonnaci code "
   ]
  },
  {
   "cell_type": "code",
   "execution_count": 3,
   "metadata": {},
   "outputs": [
    {
     "name": "stdout",
     "output_type": "stream",
     "text": [
      "The 6th fibonnaci number is 8\n"
     ]
    }
   ],
   "source": [
    "def naive_fib(n):\n",
    "    if n<=1:\n",
    "        return n\n",
    "    return naive_fib(n-1) + naive_fib(n-2)\n",
    "\n",
    "\n",
    "n = 6\n",
    "\n",
    "result = naive_fib(n)\n",
    "print (f'The {n}th fibonnaci number is {result}')"
   ]
  },
  {
   "cell_type": "markdown",
   "metadata": {},
   "source": [
    "### Memoized fibonnaci"
   ]
  },
  {
   "cell_type": "code",
   "execution_count": 11,
   "metadata": {},
   "outputs": [
    {
     "name": "stdout",
     "output_type": "stream",
     "text": [
      "1\n"
     ]
    }
   ],
   "source": [
    "def memoized(n, fibnumber={}):\n",
    "    if n<=1:\n",
    "        return n\n",
    "    if n not in fibnumber:\n",
    "        fibnumber[n] = memoized(n-1, fibnumber) +  memoized(n-2, fibnumber)\n",
    "\n",
    "    return fibnumber[n]\n",
    "\n",
    "n = 2\n",
    "result = memoized(n)\n",
    "print (result)\n"
   ]
  },
  {
   "cell_type": "markdown",
   "metadata": {},
   "source": [
    "### Tabulated fibonnaci"
   ]
  },
  {
   "cell_type": "code",
   "execution_count": 12,
   "metadata": {},
   "outputs": [
    {
     "name": "stdout",
     "output_type": "stream",
     "text": [
      "The 5th fibonnaci number is 5\n"
     ]
    }
   ],
   "source": [
    "def tabulated_fib(n):\n",
    "    if n<=1:\n",
    "        return n\n",
    "    fib_table = [0]*(n+1)\n",
    "\n",
    "    fib_table[1] = 1\n",
    "    \n",
    "    for i in range(2, n+1):\n",
    "        fib_table[i] = fib_table[i-1] + fib_table[i-2]\n",
    "\n",
    "    return fib_table[n]\n",
    "\n",
    "n = 5\n",
    "result = tabulated_fib(n)\n",
    "print (f'The {n}th fibonnaci number is {result}')"
   ]
  },
  {
   "cell_type": "markdown",
   "metadata": {},
   "source": [
    "### Bottom up dynamic programming "
   ]
  },
  {
   "cell_type": "code",
   "execution_count": 3,
   "metadata": {},
   "outputs": [
    {
     "data": {
      "text/plain": [
       "55"
      ]
     },
     "execution_count": 3,
     "metadata": {},
     "output_type": "execute_result"
    }
   ],
   "source": [
    "def fib_bottom_up(n):\n",
    "    if n == 1 or n == 2:\n",
    "        return 1\n",
    "    \n",
    "    bottom__up = [None] * (n+1)\n",
    "    bottom__up[1] = 1\n",
    "    bottom__up[2] = 1\n",
    "    for i in range(3, n+1):\n",
    "        bottom__up[i] = bottom__up[i-1] + bottom__up[i-2]\n",
    "    return bottom__up[n]\n",
    "\n",
    "fib_bottom_up(10)"
   ]
  }
 ],
 "metadata": {
  "kernelspec": {
   "display_name": "Python 3",
   "language": "python",
   "name": "python3"
  },
  "language_info": {
   "codemirror_mode": {
    "name": "ipython",
    "version": 3
   },
   "file_extension": ".py",
   "mimetype": "text/x-python",
   "name": "python",
   "nbconvert_exporter": "python",
   "pygments_lexer": "ipython3",
   "version": "3.12.5"
  }
 },
 "nbformat": 4,
 "nbformat_minor": 2
}
